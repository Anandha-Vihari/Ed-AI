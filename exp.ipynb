{
 "cells": [
  {
   "cell_type": "code",
   "execution_count": 5,
   "metadata": {},
   "outputs": [
    {
     "name": "stdout",
     "output_type": "stream",
     "text": [
      "Problem ID: prob_arra_00000000001\n",
      "Title: Array\n",
      "Problem Description: r'EXP\\Redirecting_test_problem.json'\n",
      "Test Cases: [['1 2', '3'], ['3 5', '8']]\n"
     ]
    }
   ],
   "source": [
    "import json\n",
    "\n",
    "# Step 1: Open and load the JSON file\n",
    "with open(r'EXP\\Redirecting_test_problem.json', 'r') as file:\n",
    "    data = json.load(file)\n",
    "\n",
    "# Step 2: Access the keys\n",
    "problem_id = data[\"ID\"]\n",
    "title = data[\"title\"]\n",
    "problem_description = data[\"Problem_Description\"]\n",
    "test_cases = data[\"Test_Cases\"]\n",
    "\n",
    "# Step 3: Print the values\n",
    "print(\"Problem ID:\", problem_id)\n",
    "print(\"Title:\", title)\n",
    "print(\"Problem Description:\", f\"r'{problem_description}'\")\n",
    "print(\"Test Cases:\", test_cases)\n",
    "\n",
    "# Example of accessing individual test cases\n",
    "for i, test_case in enumerate(test_cases, 1):\n",
    "    input_values, expected_output = test_case\n",
    "   \n"
   ]
  }
 ],
 "metadata": {
  "kernelspec": {
   "display_name": "venv",
   "language": "python",
   "name": "python3"
  },
  "language_info": {
   "codemirror_mode": {
    "name": "ipython",
    "version": 3
   },
   "file_extension": ".py",
   "mimetype": "text/x-python",
   "name": "python",
   "nbconvert_exporter": "python",
   "pygments_lexer": "ipython3",
   "version": "3.12.3"
  }
 },
 "nbformat": 4,
 "nbformat_minor": 2
}
