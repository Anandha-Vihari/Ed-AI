{
 "cells": [
  {
   "cell_type": "code",
   "execution_count": 1,
   "metadata": {},
   "outputs": [
    {
     "data": {
      "text/plain": [
       "True"
      ]
     },
     "execution_count": 1,
     "metadata": {},
     "output_type": "execute_result"
    }
   ],
   "source": [
    "import os\n",
    "\n",
    "# Path to check\n",
    "file_path = r\"dynamic files\\Main_pages\\Recommendations\\Learn_page_recommendation\"\n",
    "\n",
    "# Check if the file exists\n",
    "file_exists = os.path.exists(file_path)\n",
    "file_exists\n"
   ]
  },
  {
   "cell_type": "code",
   "execution_count": null,
   "metadata": {},
   "outputs": [],
   "source": [
    "# import json\n",
    "\n",
    "# # Read JSON data from data.json\n",
    "# with open(r'dynamic files\\Main_pages\\Learn.json', 'r') as json_file:\n",
    "#     json_data = json.load(json_file)\n",
    "\n",
    "# # Prepare the output list\n",
    "# output_lines = []\n",
    "\n",
    "# for box in json_data.values():\n",
    "#     title = box['Title']\n",
    "#     status = \"Completed\" if box['Completed'] else \"Not Completed\"\n",
    "#     output_lines.append(f'\"{title}\" : \"{status}\"')\n",
    "\n",
    "# # Write to the text file\n",
    "# with open('exp.txt', 'w') as file:\n",
    "#     for line in output_lines:\n",
    "#         file.write(line + '\\n')\n",
    "\n",
    "# print(\"Data has been written to output.txt\")\n"
   ]
  },
  {
   "cell_type": "markdown",
   "metadata": {},
   "source": [
    "## recommendation"
   ]
  },
  {
   "cell_type": "code",
   "execution_count": 23,
   "metadata": {},
   "outputs": [],
   "source": [
    "import os\n",
    "import ast\n",
    "import json\n",
    "from dotenv import load_dotenv\n",
    "import google.generativeai as genai\n",
    "\n",
    "load_dotenv()\n",
    "\n",
    "genai.configure(api_key=os.getenv(\"GEMINI_API_KEY\"))\n",
    "Learn_list_file_path = r\"dynamic files\\Main_pages\\Learn.json\"\n",
    "\n",
    "def learn_recommendation():\n",
    "    with open(Learn_list_file_path, 'r') as f:\n",
    "        data = json.load(f)\n",
    "\n",
    "    generation_config = {\n",
    "    \"temperature\": 0.05,\n",
    "    \"top_p\": 0.95,\n",
    "    \"top_k\": 64,\n",
    "    \"max_output_tokens\": 8192,\n",
    "    \"response_mime_type\": \"text/plain\",\n",
    "    }\n",
    "\n",
    "    model = genai.GenerativeModel(\n",
    "    model_name=\"gemini-1.5-pro\",\n",
    "    generation_config=generation_config,\n",
    "    )\n",
    "\n",
    "    chat_session = model.start_chat(\n",
    "    history=[\n",
    "        {\n",
    "        \"role\": \"user\",\n",
    "        \"parts\": [\n",
    "            f\"\"\"You are provided with a JSON file containing a list of courses. Each course has an \\\"Image Box\\\" identifier, a \\\"Title\\\", and a \\\"Completed\\\" status. Your task is to generate a list of 5 recommended courses based on the following criteria:\\n\\n1. **Exclusion of Completed Courses:** Only include courses where `\\\"Completed\\\": false`.\\n2. **Order of Difficulty:** Arrange the recommended courses from easiest to hardest based on their topics.\\n3. **Selection When All Courses Are Completed:** If all courses are marked as completed, select any 5 courses that are most suitable.\\n4. **Output Format:** The recommendations should be a list of \\\"Image Box\\\" identifiers, strictly adhering to the format below.\\n\\n**Input JSON:**\\n```{data}```\\n[\\\"Image Box X\\\", \\\"Image Box Y\\\", \\\"Image Box Z\\\", \\\"Image Box A\\\", \\\"Image Box B\\\"]\\n```\\n\\n**Additional Notes:**\\n- Ensure that the list strictly contains only the \\\"Image Box\\\" identifiers.\\n- Maintain the sequence from the easiest to the most challenging topics.\\n- Do not include any courses that have `\\\"Completed\\\": true`.\\n- If all courses are completed, select any 8 courses that best fit the recommendation criteria.\\n- Adhere strictly to the expected output format without deviations.\\n\"\"\",\n",
    "        ],\n",
    "        },\n",
    "        {\n",
    "        \"role\": \"model\",\n",
    "        \"parts\": [\n",
    "            \"```\\n[\\\"Image Box 2\\\", \\\"Image Box 3\\\", \\\"Image Box 7\\\", \\\"Image Box 9\\\", \\\"Image Box 11\\\"]\\n``` \\n\",\n",
    "        ],\n",
    "        },\n",
    "    ]\n",
    "    )\n",
    "\n",
    "    response = chat_session.send_message(\"INSERT_INPUT_HERE\")\n",
    "\n",
    "    temp_text = response.text\n",
    "    string_data = temp_text.replace('```', '')\n",
    "    list_response = ast.literal_eval(string_data)\n",
    "\n",
    "    return list_response"
   ]
  },
  {
   "cell_type": "code",
   "execution_count": 25,
   "metadata": {},
   "outputs": [],
   "source": [
    "res = learn_recommendation()"
   ]
  },
  {
   "cell_type": "code",
   "execution_count": 26,
   "metadata": {},
   "outputs": [
    {
     "data": {
      "text/plain": [
       "['Image Box 2', 'Image Box 4', 'Image Box 5', 'Image Box 6', 'Image Box 7']"
      ]
     },
     "execution_count": 26,
     "metadata": {},
     "output_type": "execute_result"
    }
   ],
   "source": [
    "res"
   ]
  },
  {
   "cell_type": "markdown",
   "metadata": {},
   "source": [
    "## Test"
   ]
  },
  {
   "cell_type": "code",
   "execution_count": 22,
   "metadata": {},
   "outputs": [
    {
     "name": "stdout",
     "output_type": "stream",
     "text": [
      "Copied: Static_Files\\Learn_Page\\All_Courses\\Image Box 2.jpg to TEST\n",
      "Copied: Static_Files\\Learn_Page\\All_Courses\\Image Box 4.jpg to TEST\n",
      "Copied: Static_Files\\Learn_Page\\All_Courses\\Image Box 5.jpg to TEST\n",
      "Copied: Static_Files\\Learn_Page\\All_Courses\\Image Box 6.jpg to TEST\n",
      "Copied: Static_Files\\Learn_Page\\All_Courses\\Image Box 7.jpg to TEST\n"
     ]
    }
   ],
   "source": [
    "import os\n",
    "import shutil\n",
    "\n",
    "def delete_all_files_in_directory(directory_path):\n",
    "    try:\n",
    "        for filename in os.listdir(directory_path):\n",
    "            file_path = os.path.join(directory_path, filename)\n",
    "            if os.path.isfile(file_path):\n",
    "                os.remove(file_path)\n",
    "                print(f\"Deleted: {file_path}\")\n",
    "            else:\n",
    "                print(f\"Skipped (not a file): {file_path}\")\n",
    "    except Exception as e:\n",
    "        print(f\"An error occurred: {e}\")\n",
    "\n",
    "def copy_imagesto_folder_from_list(Image_list_json_path, Images_path, destination_path):\n",
    "    delete_all_files_in_directory(destination_path)\n",
    "    os.makedirs(destination_path, exist_ok=True)\n",
    "\n",
    "    with open(Image_list_json_path, 'r') as file:\n",
    "        Image_list = json.load(file)\n",
    "\n",
    "    for image_name in Image_list:\n",
    "        source_file = os.path.join(Images_path, f\"{image_name}.jpg\")\n",
    "        if os.path.isfile(source_file):\n",
    "            shutil.copy(source_file, destination_path)\n",
    "            print(f\"Copied: {source_file} to {destination_path}\")\n",
    "        else:\n",
    "            print(f\"File does not exist: {source_file}\")\n",
    "\n",
    "# List of images to copy\n",
    "learn_Image_list_json_path = r\"dynamic files\\Main_pages\\Recommendations\\Learn_Recommendation.json\"\n",
    "learn_Images_path = r\"Static_Files\\Learn_Page\\All_Courses\"\n",
    "learn_destination_path = r\"dynamic files\\Main_pages\\Recommendations\\Learn_page_recommendation\"\n",
    "copy_imagesto_folder_from_list(learn_Image_list_json_path, learn_Images_path, learn_destination_path)"
   ]
  },
  {
   "cell_type": "code",
   "execution_count": 18,
   "metadata": {},
   "outputs": [],
   "source": []
  }
 ],
 "metadata": {
  "kernelspec": {
   "display_name": "venv",
   "language": "python",
   "name": "python3"
  },
  "language_info": {
   "codemirror_mode": {
    "name": "ipython",
    "version": 3
   },
   "file_extension": ".py",
   "mimetype": "text/x-python",
   "name": "python",
   "nbconvert_exporter": "python",
   "pygments_lexer": "ipython3",
   "version": "3.12.3"
  }
 },
 "nbformat": 4,
 "nbformat_minor": 2
}
