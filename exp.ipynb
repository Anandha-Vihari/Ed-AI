{
 "cells": [
  {
   "cell_type": "code",
   "execution_count": 14,
   "metadata": {},
   "outputs": [
    {
     "data": {
      "text/plain": [
       "True"
      ]
     },
     "execution_count": 14,
     "metadata": {},
     "output_type": "execute_result"
    }
   ],
   "source": [
    "import os\n",
    "\n",
    "# Path to check\n",
    "file_path = r\"Static_Files\\\\Practice_Page_Problems\\\\problem_description\\\\Concatenation_of_Array.md\"\n",
    "\n",
    "# Check if the file exists\n",
    "file_exists = os.path.exists(file_path)\n",
    "file_exists\n"
   ]
  },
  {
   "cell_type": "code",
   "execution_count": 8,
   "metadata": {},
   "outputs": [
    {
     "name": "stdout",
     "output_type": "stream",
     "text": [
      "Data has been written to output.txt\n"
     ]
    }
   ],
   "source": [
    "import json\n",
    "\n",
    "# Read JSON data from data.json\n",
    "with open(r'dynamic files\\Main_pages\\Learn.json', 'r') as json_file:\n",
    "    json_data = json.load(json_file)\n",
    "\n",
    "# Prepare the output list\n",
    "output_lines = []\n",
    "\n",
    "for box in json_data.values():\n",
    "    title = box['Title']\n",
    "    status = \"Completed\" if box['Completed'] else \"Not Completed\"\n",
    "    output_lines.append(f'\"{title}\" : \"{status}\"')\n",
    "\n",
    "# Write to the text file\n",
    "with open('exp.txt', 'w') as file:\n",
    "    for line in output_lines:\n",
    "        file.write(line + '\\n')\n",
    "\n",
    "print(\"Data has been written to output.txt\")\n"
   ]
  },
  {
   "cell_type": "code",
   "execution_count": null,
   "metadata": {},
   "outputs": [],
   "source": []
  }
 ],
 "metadata": {
  "kernelspec": {
   "display_name": "venv",
   "language": "python",
   "name": "python3"
  },
  "language_info": {
   "codemirror_mode": {
    "name": "ipython",
    "version": 3
   },
   "file_extension": ".py",
   "mimetype": "text/x-python",
   "name": "python",
   "nbconvert_exporter": "python",
   "pygments_lexer": "ipython3",
   "version": "3.12.3"
  }
 },
 "nbformat": 4,
 "nbformat_minor": 2
}
