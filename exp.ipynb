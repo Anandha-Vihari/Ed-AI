{
 "cells": [
  {
   "cell_type": "code",
   "execution_count": 14,
   "metadata": {},
   "outputs": [
    {
     "data": {
      "text/plain": [
       "True"
      ]
     },
     "execution_count": 14,
     "metadata": {},
     "output_type": "execute_result"
    }
   ],
   "source": [
    "import os\n",
    "\n",
    "# Path to check\n",
    "file_path = r\"Static_Files\\\\Practice_Page_Problems\\\\problem_description\\\\Concatenation_of_Array.md\"\n",
    "\n",
    "# Check if the file exists\n",
    "file_exists = os.path.exists(file_path)\n",
    "file_exists\n"
   ]
  },
  {
   "cell_type": "code",
   "execution_count": 9,
   "metadata": {},
   "outputs": [
    {
     "name": "stdout",
     "output_type": "stream",
     "text": [
      "Updated prob_arr_00000000004 to Completed = False\n",
      "JSON file updated successfully.\n"
     ]
    }
   ],
   "source": [
    "import json\n",
    "\n",
    "def update_problem_status(file_path, problem_id, completed_status):\n",
    "    with open(file_path, 'r') as file:\n",
    "        data = json.load(file)\n",
    "\n",
    "    if problem_id in data:\n",
    "        data[problem_id]['Completed'] = completed_status\n",
    "        print(f\"Updated {problem_id} to Completed = {completed_status}\")\n",
    "    else:\n",
    "        return f\"Problem ID {problem_id} not found in the data\"\n",
    "\n",
    "    with open(file_path, 'w') as file:\n",
    "        json.dump(data, file, indent=4)\n",
    "\n",
    "    return \"JSON file updated successfully.\"\n",
    "\n",
    "# Example usage\n",
    "file_path = 'dynamic files/Main_pages/Practice_Coding_Problems.json'\n",
    "problem_id = 'prob_arr_00000000004'\n",
    "completed_status = False\n",
    "\n",
    "result_message = update_problem_status(file_path, problem_id, True)\n",
    "print(result_message)\n"
   ]
  },
  {
   "cell_type": "code",
   "execution_count": null,
   "metadata": {},
   "outputs": [],
   "source": []
  }
 ],
 "metadata": {
  "kernelspec": {
   "display_name": "venv",
   "language": "python",
   "name": "python3"
  },
  "language_info": {
   "codemirror_mode": {
    "name": "ipython",
    "version": 3
   },
   "file_extension": ".py",
   "mimetype": "text/x-python",
   "name": "python",
   "nbconvert_exporter": "python",
   "pygments_lexer": "ipython3",
   "version": "3.12.3"
  }
 },
 "nbformat": 4,
 "nbformat_minor": 2
}
