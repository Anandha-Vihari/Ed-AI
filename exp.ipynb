{
 "cells": [
  {
   "cell_type": "code",
   "execution_count": 49,
   "metadata": {},
   "outputs": [
    {
     "name": "stdout",
     "output_type": "stream",
     "text": [
      "{'ID': 'cors_arra_00000000001', 'title': 'Array', 'Course': ['Static_Files\\\\Learn_Page\\\\All_Courses_Redirecting_JSON\\\\Course_1.md', 'Static_Files\\\\Learn_Page\\\\All_Courses_Redirecting_JSON\\\\Course_2.md'], 'Test': ['Static_Files\\\\Learn_Page\\\\All_Courses_Test\\\\Test_1.json', 'Static_Files\\\\Learn_Page\\\\All_Courses_Test\\\\Test_2.json']}\n"
     ]
    }
   ],
   "source": [
    "import json\n",
    "\n",
    "default_json_file_path = r\"Static_Files\\Learn_Page\\All_Courses_Redirecting_JSON\\cors_arra_00000000001.json\"\n",
    "\n",
    "with open(default_json_file_path, 'r') as f:\n",
    "    data = json.load(f)\n",
    "print(data)"
   ]
  },
  {
   "cell_type": "code",
   "execution_count": 50,
   "metadata": {},
   "outputs": [
    {
     "name": "stdout",
     "output_type": "stream",
     "text": [
      "The title with the first letter capitalized is: Array\n",
      "ID: cors_arra_00000000001\n",
      "title: Array\n",
      "Course: ['Static_Files\\\\Learn_Page\\\\All_Courses_Redirecting_JSON\\\\Course_1.md', 'Static_Files\\\\Learn_Page\\\\All_Courses_Redirecting_JSON\\\\Course_2.md']\n",
      "Test: ['Static_Files\\\\Learn_Page\\\\All_Courses_Test\\\\Test_1.json', 'Static_Files\\\\Learn_Page\\\\All_Courses_Test\\\\Test_2.json']\n"
     ]
    }
   ],
   "source": [
    "title = data[\"title\"]\n",
    "\n",
    "print(f\"The title with the first letter capitalized is: {title}\")\n",
    "\n",
    "for key, value in data.items():\n",
    "    print(f\"{key}: {value}\")\n"
   ]
  },
  {
   "cell_type": "code",
   "execution_count": 51,
   "metadata": {},
   "outputs": [
    {
     "name": "stdout",
     "output_type": "stream",
     "text": [
      "Static_Files\\Learn_Page\\All_Courses_Redirecting_JSON\\Course_1.md\n",
      "Static_Files\\Learn_Page\\All_Courses_Test\\Test_1.json\n",
      "Static_Files\\Learn_Page\\All_Courses_Redirecting_JSON\\Course_2.md\n",
      "Static_Files\\Learn_Page\\All_Courses_Test\\Test_2.json\n"
     ]
    }
   ],
   "source": [
    "def alternate_print(list1, list2):\n",
    "  \"\"\"Alternately prints elements from two lists.\n",
    "\n",
    "  Args:\n",
    "    list1: The first list.\n",
    "    list2: The second list.\n",
    "  \"\"\"\n",
    "\n",
    "  max_length = max(len(list1), len(list2))\n",
    "  for i in range(max_length):\n",
    "    if i < len(list1):\n",
    "      print(list1[i])\n",
    "    if i < len(list2):\n",
    "      print(list2[i])\n",
    "\n",
    "# Example usage\n",
    "list1 = data[\"Course\"]\n",
    "list2 = data[\"Test\"]\n",
    "alternate_print(list1, list2)"
   ]
  }
 ],
 "metadata": {
  "kernelspec": {
   "display_name": "venv",
   "language": "python",
   "name": "python3"
  },
  "language_info": {
   "codemirror_mode": {
    "name": "ipython",
    "version": 3
   },
   "file_extension": ".py",
   "mimetype": "text/x-python",
   "name": "python",
   "nbconvert_exporter": "python",
   "pygments_lexer": "ipython3",
   "version": "3.12.3"
  }
 },
 "nbformat": 4,
 "nbformat_minor": 2
}
