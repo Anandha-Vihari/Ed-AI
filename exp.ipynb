{
 "cells": [
  {
   "cell_type": "code",
   "execution_count": 11,
   "metadata": {},
   "outputs": [],
   "source": [
    "def clear_and_rewrite_memory_of_navbar(memory_of_navbar, selected):\n",
    "    with open(memory_of_navbar, 'w') as file:\n",
    "        file.write(selected)\n",
    "\n",
    "memory_of_navbar = r'EXP\\memory.txt'\n",
    "selected = \"This is the new content of the file.\"\n",
    "clear_and_rewrite_memory_of_navbar(memory_of_navbar, selected)\n"
   ]
  },
  {
   "cell_type": "code",
   "execution_count": 12,
   "metadata": {},
   "outputs": [
    {
     "name": "stdout",
     "output_type": "stream",
     "text": [
      "This is the new content of the file.\n",
      "<class 'str'>\n"
     ]
    }
   ],
   "source": [
    "def read_memory_of_navbar(memory_of_navbar):\n",
    "    try:\n",
    "        with open(memory_of_navbar, 'r') as file:\n",
    "            content = file.read()\n",
    "        return content\n",
    "    except FileNotFoundError:\n",
    "        return f\"File '{memory_of_navbar}' not found.\"\n",
    "    except Exception as e:\n",
    "        return f\"An error occurred: {e}\"\n",
    "\n",
    "file_content = read_memory_of_navbar(r'EXP\\memory.txt')\n",
    "print(file_content)\n",
    "print(type(file_content))"
   ]
  }
 ],
 "metadata": {
  "kernelspec": {
   "display_name": "venv",
   "language": "python",
   "name": "python3"
  },
  "language_info": {
   "codemirror_mode": {
    "name": "ipython",
    "version": 3
   },
   "file_extension": ".py",
   "mimetype": "text/x-python",
   "name": "python",
   "nbconvert_exporter": "python",
   "pygments_lexer": "ipython3",
   "version": "3.12.3"
  }
 },
 "nbformat": 4,
 "nbformat_minor": 2
}
