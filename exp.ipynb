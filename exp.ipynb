{
 "cells": [
  {
   "cell_type": "code",
   "execution_count": 65,
   "metadata": {},
   "outputs": [
    {
     "name": "stdout",
     "output_type": "stream",
     "text": [
      "Static_Files\\Learn_Page\\All_Courses_Redirecting_JSON\\Course_1.md\n",
      "Static_Files\\Learn_Page\\All_Courses_Test\\Test_1.json\n",
      "Static_Files\\Learn_Page\\All_Courses_Redirecting_JSON\\Course_2.md\n",
      "Static_Files\\Learn_Page\\All_Courses_Test\\Test_2.json\n"
     ]
    }
   ],
   "source": [
    "import json\n",
    "\n",
    "Redirecting_json_file_path = r\"Static_Files\\Learn_Page\\All_Courses_Redirecting_JSON\\cors_arra_00000000001.json\"\n",
    "\n",
    "with open(Redirecting_json_file_path, 'r') as f:\n",
    "    data = json.load(f)\n",
    "\n",
    "Course_Course_title = data[\"title\"]\n",
    "Course_list = data[\"Course\"]\n",
    "MCQ_list = data[\"Test\"]\n",
    "\n",
    "max_length_lists = max(len(Course_list), len(MCQ_list))\n",
    "for i in range(max_length_lists):\n",
    "    if i < len(Course_list):\n",
    "        print(Course_list[i])\n",
    "    if i < len(MCQ_list):\n",
    "        print(MCQ_list[i])"
   ]
  },
  {
   "cell_type": "code",
   "execution_count": 66,
   "metadata": {},
   "outputs": [
    {
     "name": "stdout",
     "output_type": "stream",
     "text": [
      "Array\n",
      "['Static_Files\\\\Learn_Page\\\\All_Courses_Redirecting_JSON\\\\Course_1.md', 'Static_Files\\\\Learn_Page\\\\All_Courses_Redirecting_JSON\\\\Course_2.md']\n",
      "['Static_Files\\\\Learn_Page\\\\All_Courses_Test\\\\Test_1.json', 'Static_Files\\\\Learn_Page\\\\All_Courses_Test\\\\Test_2.json']\n"
     ]
    }
   ],
   "source": [
    "print(data[\"title\"])\n",
    "print(data[\"Course\"])\n",
    "print(data[\"Test\"])"
   ]
  },
  {
   "cell_type": "code",
   "execution_count": 62,
   "metadata": {},
   "outputs": [
    {
     "name": "stdout",
     "output_type": "stream",
     "text": [
      "Static_Files\\Learn_Page\\All_Courses_Redirecting_JSON\\Course_1.md\n",
      "Static_Files\\Learn_Page\\All_Courses_Test\\Test_1.json\n",
      "Static_Files\\Learn_Page\\All_Courses_Redirecting_JSON\\Course_2.md\n",
      "Static_Files\\Learn_Page\\All_Courses_Test\\Test_2.json\n"
     ]
    }
   ],
   "source": []
  }
 ],
 "metadata": {
  "kernelspec": {
   "display_name": "venv",
   "language": "python",
   "name": "python3"
  },
  "language_info": {
   "codemirror_mode": {
    "name": "ipython",
    "version": 3
   },
   "file_extension": ".py",
   "mimetype": "text/x-python",
   "name": "python",
   "nbconvert_exporter": "python",
   "pygments_lexer": "ipython3",
   "version": "3.12.3"
  }
 },
 "nbformat": 4,
 "nbformat_minor": 2
}
