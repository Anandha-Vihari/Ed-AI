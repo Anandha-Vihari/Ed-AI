{
 "cells": [
  {
   "cell_type": "code",
   "execution_count": 14,
   "metadata": {},
   "outputs": [
    {
     "data": {
      "text/plain": [
       "True"
      ]
     },
     "execution_count": 14,
     "metadata": {},
     "output_type": "execute_result"
    }
   ],
   "source": [
    "import os\n",
    "\n",
    "# Path to check\n",
    "file_path = r\"Static_Files\\\\Practice_Page_Problems\\\\problem_description\\\\Concatenation_of_Array.md\"\n",
    "\n",
    "# Check if the file exists\n",
    "file_exists = os.path.exists(file_path)\n",
    "file_exists\n"
   ]
  },
  {
   "cell_type": "code",
   "execution_count": null,
   "metadata": {},
   "outputs": [],
   "source": [
    "# import os\n",
    "\n",
    "# # Path to the folder containing your images\n",
    "# folder_path = r\"Static_Files\\Learn_Page\\All_Courses\"\n",
    "\n",
    "# # Iterate over all files in the folder\n",
    "# for filename in os.listdir(folder_path):\n",
    "#     # Check if the file is a jpg image\n",
    "#     if filename.endswith(\".jpg\"):\n",
    "#         # Define the new file name by adding \"Image_Box \" as a prefix\n",
    "#         new_name = f\"Image Box {filename}\"\n",
    "        \n",
    "#         # Get the full paths for the current and new file names\n",
    "#         old_file = os.path.join(folder_path, filename)\n",
    "#         new_file = os.path.join(folder_path, new_name)\n",
    "        \n",
    "#         # Rename the file\n",
    "#         os.rename(old_file, new_file)\n",
    "\n",
    "# print(\"Renaming complete!\")\n"
   ]
  },
  {
   "cell_type": "code",
   "execution_count": 11,
   "metadata": {},
   "outputs": [
    {
     "name": "stdout",
     "output_type": "stream",
     "text": [
      "problem_title  Concatenation of Array\n",
      "problem_problem_description  Coding_Problems\\problem_description\\Concatenation_of_Array.md\n",
      "problem_test_cases  [['1 2 1', '[1, 2, 1, 1, 2, 1]'], ['1 3 2 1', '[1, 3, 2, 1, 1, 3, 2, 1]'], ['5 6', '[5, 6, 5, 6]'], ['9', '[9, 9]']]\n"
     ]
    }
   ],
   "source": [
    "import json\n",
    "\n",
    "def show_details(selected_image):\n",
    "    Redirecting_json_file_path = r\"Static_Files\\Practice_Page_Problems\\Coding_Problem.json\"\n",
    "\n",
    "    with open(Redirecting_json_file_path, 'r') as f:\n",
    "        data = json.load(f)\n",
    "\n",
    "    print(\"problem_title \", data['problems'][selected_image][\"title\"])\n",
    "    print(\"problem_problem_description \", data['problems'][selected_image][\"Problem_Description\"])\n",
    "    print(\"problem_test_cases \", data['problems'][selected_image][\"Test_Cases\"])\n",
    "\n",
    "show_details(\"prob_arr_00000000001\")"
   ]
  }
 ],
 "metadata": {
  "kernelspec": {
   "display_name": "venv",
   "language": "python",
   "name": "python3"
  },
  "language_info": {
   "codemirror_mode": {
    "name": "ipython",
    "version": 3
   },
   "file_extension": ".py",
   "mimetype": "text/x-python",
   "name": "python",
   "nbconvert_exporter": "python",
   "pygments_lexer": "ipython3",
   "version": "3.12.3"
  }
 },
 "nbformat": 4,
 "nbformat_minor": 2
}
