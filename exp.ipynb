{
 "cells": [
  {
   "cell_type": "code",
   "execution_count": 7,
   "metadata": {},
   "outputs": [
    {
     "data": {
      "text/plain": [
       "True"
      ]
     },
     "execution_count": 7,
     "metadata": {},
     "output_type": "execute_result"
    }
   ],
   "source": [
    "import os\n",
    "\n",
    "# Path to check\n",
    "file_path = \"Static_Files/Learn_Page/Image Box 10/Course Markdown Files/DS_LinkedList.md\"\n",
    "file_path = \"Static_Files/Learn_Page/Image Box 10/Course Markdown File/DS_LinkedList.md\"\n",
    "\n",
    "# Check if the file exists\n",
    "file_exists = os.path.exists(file_path)\n",
    "file_exists\n"
   ]
  },
  {
   "cell_type": "code",
   "execution_count": null,
   "metadata": {},
   "outputs": [],
   "source": [
    "# import os\n",
    "\n",
    "# # Path to the folder containing your images\n",
    "# folder_path = r\"Static_Files\\Learn_Page\\All_Courses\"\n",
    "\n",
    "# # Iterate over all files in the folder\n",
    "# for filename in os.listdir(folder_path):\n",
    "#     # Check if the file is a jpg image\n",
    "#     if filename.endswith(\".jpg\"):\n",
    "#         # Define the new file name by adding \"Image_Box \" as a prefix\n",
    "#         new_name = f\"Image Box {filename}\"\n",
    "        \n",
    "#         # Get the full paths for the current and new file names\n",
    "#         old_file = os.path.join(folder_path, filename)\n",
    "#         new_file = os.path.join(folder_path, new_name)\n",
    "        \n",
    "#         # Rename the file\n",
    "#         os.rename(old_file, new_file)\n",
    "\n",
    "# print(\"Renaming complete!\")\n"
   ]
  },
  {
   "cell_type": "code",
   "execution_count": 1,
   "metadata": {},
   "outputs": [
    {
     "name": "stdout",
     "output_type": "stream",
     "text": [
      "Key: Programming_Fundamentals_000001\n",
      "Title: Programming_Fundamentals\n",
      "Test file: Static_Files/Practice_Page/All_Courses_Test/Programming_Fundamentals_000001.json\n",
      "----------------------------------------\n",
      "Key: Array_000001\n",
      "Title: Array\n",
      "Test file: Static_Files/Practice_Page/All_Courses_Test/Array_000001.json\n",
      "----------------------------------------\n",
      "Key: Linked_List_000001\n",
      "Title: Linked_List\n",
      "Test file: Static_Files/Practice_Page/All_Courses_Test/Linked_List_000001.json\n",
      "----------------------------------------\n",
      "Key: Stack_000001\n",
      "Title: Stack\n",
      "Test file: Static_Files/Practice_Page/All_Courses_Test/Stack_000001.json\n",
      "----------------------------------------\n",
      "Key: Queue_000001\n",
      "Title: Queue\n",
      "Test file: Static_Files/Practice_Page/All_Courses_Test/Queue_000001.json\n",
      "----------------------------------------\n",
      "Key: Tree_000001\n",
      "Title: Tree\n",
      "Test file: Static_Files/Practice_Page/All_Courses_Test/Tree_000001.json\n",
      "----------------------------------------\n",
      "Key: Graph_000001\n",
      "Title: Graph\n",
      "Test file: Static_Files/Practice_Page/All_Courses_Test/Graph_000001.json\n",
      "----------------------------------------\n",
      "Key: Hashing_000001\n",
      "Title: Hashing\n",
      "Test file: Static_Files/Practice_Page/All_Courses_Test/Hashing_000001.json\n",
      "----------------------------------------\n",
      "Key: Heap_000001\n",
      "Title: Heap\n",
      "Test file: Static_Files/Practice_Page/All_Courses_Test/Heap_000001.json\n",
      "----------------------------------------\n",
      "Key: Sort_000001\n",
      "Title: Sort\n",
      "Test file: Static_Files/Practice_Page/All_Courses_Test/Sort_000001.json\n",
      "----------------------------------------\n",
      "Key: Search_000001\n",
      "Title: Search\n",
      "Test file: Static_Files/Practice_Page/All_Courses_Test/Search_000001.json\n",
      "----------------------------------------\n"
     ]
    }
   ],
   "source": [
    "import json\n",
    "\n",
    "# Path to the file\n",
    "Tests_Question_json_file_path = r'Static_Files\\Practice_Page\\Redirecting_MCQ_test.json'\n",
    "\n",
    "# Read the JSON file\n",
    "with open(Tests_Question_json_file_path, 'r') as file:\n",
    "    data = json.load(file)\n",
    "\n",
    "# Print the values from the file\n",
    "for key, value in data.items():\n",
    "    print(f\"Key: {key}\")\n",
    "    print(f\"Title: {value['Title']}\")\n",
    "    print(f\"Test file: {value['Test_file']}\")\n",
    "    print('-' * 40)\n"
   ]
  }
 ],
 "metadata": {
  "kernelspec": {
   "display_name": "venv",
   "language": "python",
   "name": "python3"
  },
  "language_info": {
   "codemirror_mode": {
    "name": "ipython",
    "version": 3
   },
   "file_extension": ".py",
   "mimetype": "text/x-python",
   "name": "python",
   "nbconvert_exporter": "python",
   "pygments_lexer": "ipython3",
   "version": "3.12.3"
  }
 },
 "nbformat": 4,
 "nbformat_minor": 2
}
