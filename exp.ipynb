{
 "cells": [
  {
   "cell_type": "code",
   "execution_count": 14,
   "metadata": {},
   "outputs": [
    {
     "data": {
      "text/plain": [
       "True"
      ]
     },
     "execution_count": 14,
     "metadata": {},
     "output_type": "execute_result"
    }
   ],
   "source": [
    "import os\n",
    "\n",
    "# Path to check\n",
    "file_path = r\"Static_Files\\\\Practice_Page_Problems\\\\problem_description\\\\Concatenation_of_Array.md\"\n",
    "\n",
    "# Check if the file exists\n",
    "file_exists = os.path.exists(file_path)\n",
    "file_exists\n"
   ]
  },
  {
   "cell_type": "code",
   "execution_count": null,
   "metadata": {},
   "outputs": [],
   "source": [
    "# import os\n",
    "\n",
    "# # Path to the folder containing your images\n",
    "# folder_path = r\"Static_Files\\Learn_Page\\All_Courses\"\n",
    "\n",
    "# # Iterate over all files in the folder\n",
    "# for filename in os.listdir(folder_path):\n",
    "#     # Check if the file is a jpg image\n",
    "#     if filename.endswith(\".jpg\"):\n",
    "#         # Define the new file name by adding \"Image_Box \" as a prefix\n",
    "#         new_name = f\"Image Box {filename}\"\n",
    "        \n",
    "#         # Get the full paths for the current and new file names\n",
    "#         old_file = os.path.join(folder_path, filename)\n",
    "#         new_file = os.path.join(folder_path, new_name)\n",
    "        \n",
    "#         # Rename the file\n",
    "#         os.rename(old_file, new_file)\n",
    "\n",
    "# print(\"Renaming complete!\")\n"
   ]
  },
  {
   "cell_type": "code",
   "execution_count": 11,
   "metadata": {},
   "outputs": [
    {
     "name": "stdout",
     "output_type": "stream",
     "text": [
      "problem_title  Concatenation of Array\n",
      "problem_problem_description  Coding_Problems\\problem_description\\Concatenation_of_Array.md\n",
      "problem_test_cases  [['1 2 1', '[1, 2, 1, 1, 2, 1]'], ['1 3 2 1', '[1, 3, 2, 1, 1, 3, 2, 1]'], ['5 6', '[5, 6, 5, 6]'], ['9', '[9, 9]']]\n"
     ]
    }
   ],
   "source": [
    "import json\n",
    "\n",
    "def show_details(selected_image):\n",
    "    Redirecting_json_file_path = r\"Static_Files\\Practice_Page_Problems\\Coding_Problem.json\"\n",
    "\n",
    "    with open(Redirecting_json_file_path, 'r') as f:\n",
    "        data = json.load(f)\n",
    "\n",
    "    print(\"problem_title \", data['problems'][selected_image][\"title\"])\n",
    "    print(\"problem_problem_description \", data['problems'][selected_image][\"Problem_Description\"])\n",
    "    print(\"problem_test_cases \", data['problems'][selected_image][\"Test_Cases\"])\n",
    "\n",
    "show_details(\"prob_arr_00000000001\")"
   ]
  },
  {
   "cell_type": "code",
   "execution_count": 7,
   "metadata": {},
   "outputs": [
    {
     "name": "stdout",
     "output_type": "stream",
     "text": [
      "{'S no.': ['1', '2', '3', '4', '5', '6', '7', '8', '9', '10', '11', '12', '13', '14', '15'], 'Title': ['Concatenation of Array', 'Number of Good Pairs', 'Two Sum', 'Maximum Subarray Sum', 'Smallest Subarray with Sum >= K', 'Array Sum', 'Maximum Sum of Non-Adjacent Elements', 'Longest Palindromic Substring', 'Longest Substring with At Most K Distinct Characters', 'Single Number II', 'Missing Number', 'Maximum XOR of Two Numbers in an Array', 'Counting Bits', 'Single Number', 'Valid Anagram'], 'Difficulty': ['Easy', 'Easy', 'Easy', 'Medium', 'Hard', 'Easy', 'Hard', 'Medium', 'Hard', 'Medium', 'Medium', 'Hard', 'Medium', 'Easy', 'Easy'], 'ID': ['prob_arr_00000000001', 'prob_arr_00000000002', 'prob_arr_00000000003', 'prob_arr_00000000004', 'prob_arr_00000000005', 'prob_arr_00000000006', 'prob_arr_00000000007', 'prob_str_00000000001', 'prob_str_00000000002', 'prob_BIM_00000000001', 'prob_BIM_00000000002', 'prob_BIM_00000000003', 'prob_BIM_00000000004', 'prob_BIM_00000000005', 'prob_str_00000000003']}\n"
     ]
    }
   ],
   "source": [
    "import json\n",
    "\n",
    "# Load the JSON data\n",
    "with open(r'Static_Files\\Practice_Page_Problems\\Coding_Problem.json') as f:\n",
    "    json_data = json.load(f)  # Keep the original data loaded in a different variable\n",
    "\n",
    "# Initialize a list for S no., Title, Difficulty, and ID\n",
    "problems_data = {\n",
    "    \"S no.\": [],\n",
    "    \"Title\": [],\n",
    "    \"Difficulty\": [],\n",
    "    \"ID\": []\n",
    "}\n",
    "\n",
    "problems_info = json_data[\"problems\"]  # Access problems from the loaded JSON data\n",
    "\n",
    "# Loop through and append to the lists\n",
    "for idx, (key, problem) in enumerate(problems_info.items(), start=1):\n",
    "    problems_data[\"S no.\"].append(str(idx))\n",
    "    problems_data[\"Title\"].append(problem[\"title\"])\n",
    "    problems_data[\"Difficulty\"].append(problem[\"Difficulty\"])\n",
    "    problems_data[\"ID\"].append(key)  # Use the key as the ID\n",
    "\n",
    "# Now you have the desired structure\n",
    "print(problems_data)\n"
   ]
  }
 ],
 "metadata": {
  "kernelspec": {
   "display_name": "venv",
   "language": "python",
   "name": "python3"
  },
  "language_info": {
   "codemirror_mode": {
    "name": "ipython",
    "version": 3
   },
   "file_extension": ".py",
   "mimetype": "text/x-python",
   "name": "python",
   "nbconvert_exporter": "python",
   "pygments_lexer": "ipython3",
   "version": "3.12.3"
  }
 },
 "nbformat": 4,
 "nbformat_minor": 2
}
