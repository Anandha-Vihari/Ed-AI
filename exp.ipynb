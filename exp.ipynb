{
 "cells": [
  {
   "cell_type": "code",
   "execution_count": 9,
   "metadata": {},
   "outputs": [
    {
     "name": "stdout",
     "output_type": "stream",
     "text": [
      "{'ID': 'cors_arra_00000000002', 'title': 'Array', 'Course': ['Course_1', 'Course_2', 'Course_3', 'Course_4'], 'Test': ['Test_1', 'Test_2', 'Test_3', 'Test_4']}\n"
     ]
    }
   ],
   "source": [
    "import json\n",
    "\n",
    "file_name = \"cors_arra_00000000002\"\n",
    "default_json_file_path = f\"Static_Files\\\\Learn_Page\\\\All_Courses_JSON\\\\{file_name}.json\"\n",
    "\n",
    "# Read the JSON data\n",
    "with open(default_json_file_path, 'r') as f:\n",
    "    data = json.load(f)\n",
    "\n",
    "# Now you can access the data using the appropriate keys\n",
    "print(data)  # This will print the entire JSON data\n",
    "\n",
    "\n"
   ]
  },
  {
   "cell_type": "code",
   "execution_count": 10,
   "metadata": {},
   "outputs": [
    {
     "name": "stdout",
     "output_type": "stream",
     "text": [
      "ID: cors_arra_00000000002\n",
      "title: Array\n",
      "Course: ['Course_1', 'Course_2', 'Course_3', 'Course_4']\n",
      "Test: ['Test_1', 'Test_2', 'Test_3', 'Test_4']\n"
     ]
    }
   ],
   "source": [
    "for key, value in data.items():\n",
    "    print(f\"{key}: {value}\")"
   ]
  }
 ],
 "metadata": {
  "kernelspec": {
   "display_name": "venv",
   "language": "python",
   "name": "python3"
  },
  "language_info": {
   "codemirror_mode": {
    "name": "ipython",
    "version": 3
   },
   "file_extension": ".py",
   "mimetype": "text/x-python",
   "name": "python",
   "nbconvert_exporter": "python",
   "pygments_lexer": "ipython3",
   "version": "3.12.3"
  }
 },
 "nbformat": 4,
 "nbformat_minor": 2
}
